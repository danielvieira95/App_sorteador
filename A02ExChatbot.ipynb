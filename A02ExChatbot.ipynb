{
  "nbformat": 4,
  "nbformat_minor": 0,
  "metadata": {
    "colab": {
      "provenance": [],
      "authorship_tag": "ABX9TyNfzjOWuhMJZe/SYY0cH+hQ",
      "include_colab_link": true
    },
    "kernelspec": {
      "name": "python3",
      "display_name": "Python 3"
    },
    "language_info": {
      "name": "python"
    }
  },
  "cells": [
    {
      "cell_type": "markdown",
      "metadata": {
        "id": "view-in-github",
        "colab_type": "text"
      },
      "source": [
        "<a href=\"https://colab.research.google.com/github/danielvieira95/App_sorteador/blob/master/A02ExChatbot.ipynb\" target=\"_parent\"><img src=\"https://colab.research.google.com/assets/colab-badge.svg\" alt=\"Open In Colab\"/></a>"
      ]
    },
    {
      "cell_type": "code",
      "execution_count": null,
      "metadata": {
        "id": "TOh86c6ERsQg"
      },
      "outputs": [],
      "source": [
        "# instalando a biblioteca do Lhama\n",
        "!pip install llama_index.llms.groq"
      ]
    },
    {
      "cell_type": "code",
      "source": [
        "from llama_index.llms.groq import Groq"
      ],
      "metadata": {
        "id": "gAJTjSmyRxCZ"
      },
      "execution_count": null,
      "outputs": []
    },
    {
      "cell_type": "code",
      "source": [
        "from google.colab import userdata\n"
      ],
      "metadata": {
        "id": "hY7_W9ZfV7P9"
      },
      "execution_count": null,
      "outputs": []
    },
    {
      "cell_type": "code",
      "source": [
        "groq_api_key = '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'"
      ],
      "metadata": {
        "id": "ku9tb-UiXk5m"
      },
      "execution_count": null,
      "outputs": []
    },
    {
      "cell_type": "code",
      "source": [
        "llm = Groq(model='llama3-70b-8192',api_key=groq_api_key)"
      ],
      "metadata": {
        "id": "KSmwPYbSW5cb"
      },
      "execution_count": null,
      "outputs": []
    },
    {
      "cell_type": "code",
      "source": [
        "response = llm.complete('Qual semente é indicada para o solo arenoso em maio')"
      ],
      "metadata": {
        "id": "8mCO5cgXZPN1"
      },
      "execution_count": null,
      "outputs": []
    },
    {
      "cell_type": "code",
      "source": [
        "response"
      ],
      "metadata": {
        "colab": {
          "base_uri": "https://localhost:8080/"
        },
        "id": "6NA7KHBoZdFo",
        "outputId": "15508008-608e-4cc6-e310-c8aefb9cccce"
      },
      "execution_count": null,
      "outputs": [
        {
          "output_type": "execute_result",
          "data": {
            "text/plain": [
              "CompletionResponse(text='Excelente pergunta!\\n\\nPara solo arenoso em maio, é importante escolher sementes que sejam resistentes à seca e ao calor, pois o solo arenoso tende a esquentar rapidamente e perder água rapidamente. Aqui estão algumas opções de sementes que são indicadas para solo arenoso em maio:\\n\\n1. **Feijão**: Feijão é uma excelente opção para solo arenoso em maio. Ele é resistente à seca e ao calor, e pode crescer bem em solos arenosos.\\n2. **Milho**: O milho é outra opção que se adapta bem ao solo arenoso em maio. Ele é resistente à seca e ao calor, e pode crescer rapidamente em solos arenosos.\\n3. **Abobrinha**: A abobrinha é uma hortaliça que se adapta bem ao solo arenoso em maio. Ela é resistente à seca e ao calor, e pode crescer rapidamente em solos arenosos.\\n4. **Pepino**: O pepino é outra opção que se adapta bem ao solo arenoso em maio. Ele é resistente à seca e ao calor, e pode crescer rapidamente em solos arenosos.\\n5. **Cebola**: A cebola é uma opção que se adapta bem ao solo arenoso em maio. Ela é resistente à seca e ao calor, e pode crescer bem em solos arenosos.\\n\\nLembre-se de que, independentemente da semente escolhida, é importante:\\n\\n* Preparar o solo antes de semear, adicionando matéria orgânica e fertilizantes para melhorar a estrutura e a fertilidade do solo.\\n* Manter o solo úmido, mas não encharcado, para evitar a perda de água e a erosão do solo.\\n* Fornecer sombra para as plantas, especialmente durante o período de maior calor do dia.\\n\\nEspero que essas dicas tenham ajudado!', additional_kwargs={}, raw=ChatCompletion(id='chatcmpl-f45c3f32-a851-4f09-91ca-812dd16fa725', choices=[Choice(finish_reason='stop', index=0, logprobs=None, message=ChatCompletionMessage(content='Excelente pergunta!\\n\\nPara solo arenoso em maio, é importante escolher sementes que sejam resistentes à seca e ao calor, pois o solo arenoso tende a esquentar rapidamente e perder água rapidamente. Aqui estão algumas opções de sementes que são indicadas para solo arenoso em maio:\\n\\n1. **Feijão**: Feijão é uma excelente opção para solo arenoso em maio. Ele é resistente à seca e ao calor, e pode crescer bem em solos arenosos.\\n2. **Milho**: O milho é outra opção que se adapta bem ao solo arenoso em maio. Ele é resistente à seca e ao calor, e pode crescer rapidamente em solos arenosos.\\n3. **Abobrinha**: A abobrinha é uma hortaliça que se adapta bem ao solo arenoso em maio. Ela é resistente à seca e ao calor, e pode crescer rapidamente em solos arenosos.\\n4. **Pepino**: O pepino é outra opção que se adapta bem ao solo arenoso em maio. Ele é resistente à seca e ao calor, e pode crescer rapidamente em solos arenosos.\\n5. **Cebola**: A cebola é uma opção que se adapta bem ao solo arenoso em maio. Ela é resistente à seca e ao calor, e pode crescer bem em solos arenosos.\\n\\nLembre-se de que, independentemente da semente escolhida, é importante:\\n\\n* Preparar o solo antes de semear, adicionando matéria orgânica e fertilizantes para melhorar a estrutura e a fertilidade do solo.\\n* Manter o solo úmido, mas não encharcado, para evitar a perda de água e a erosão do solo.\\n* Fornecer sombra para as plantas, especialmente durante o período de maior calor do dia.\\n\\nEspero que essas dicas tenham ajudado!', refusal=None, role='assistant', audio=None, function_call=None, tool_calls=None))], created=1738797113, model='llama3-70b-8192', object='chat.completion', service_tier=None, system_fingerprint='fp_753a4aecf6', usage=CompletionUsage(completion_tokens=445, prompt_tokens=24, total_tokens=469, completion_tokens_details=None, prompt_tokens_details=None, queue_time=0.021891170999999997, prompt_time=0.003796975, completion_time=1.31773799, total_time=1.3215349650000001), x_groq={'id': 'req_01jkc64qtwehbbfmecbz24c20h'}), logprobs=None, delta=None)"
            ]
          },
          "metadata": {},
          "execution_count": 24
        }
      ]
    },
    {
      "cell_type": "code",
      "source": [
        "paragrafos = response.text.split(\"\\n\\n\")\n",
        "for paragrafo in paragrafos:\n",
        "  print(paragrafo)\n",
        "  print(\"\\n\")"
      ],
      "metadata": {
        "colab": {
          "base_uri": "https://localhost:8080/"
        },
        "id": "CykyIOAebHlR",
        "outputId": "e2d86145-f072-4e6c-e24c-3ec3282844df"
      },
      "execution_count": null,
      "outputs": [
        {
          "output_type": "stream",
          "name": "stdout",
          "text": [
            "Excelente pergunta!\n",
            "\n",
            "\n",
            "Para solo arenoso em maio, é importante escolher sementes que sejam resistentes à seca e ao calor, pois o solo arenoso tende a esquentar rapidamente e perder água rapidamente. Aqui estão algumas opções de sementes que são indicadas para solo arenoso em maio:\n",
            "\n",
            "\n",
            "1. **Feijão**: Feijão é uma excelente opção para solo arenoso em maio. Ele é resistente à seca e ao calor, e pode crescer bem em solos arenosos.\n",
            "2. **Milho**: O milho é outra opção que se adapta bem ao solo arenoso em maio. Ele é resistente à seca e ao calor, e pode crescer rapidamente em solos arenosos.\n",
            "3. **Abobrinha**: A abobrinha é uma hortaliça que se adapta bem ao solo arenoso em maio. Ela é resistente à seca e ao calor, e pode crescer rapidamente em solos arenosos.\n",
            "4. **Pepino**: O pepino é outra opção que se adapta bem ao solo arenoso em maio. Ele é resistente à seca e ao calor, e pode crescer rapidamente em solos arenosos.\n",
            "5. **Cebola**: A cebola é uma opção que se adapta bem ao solo arenoso em maio. Ela é resistente à seca e ao calor, e pode crescer bem em solos arenosos.\n",
            "\n",
            "\n",
            "Lembre-se de que, independentemente da semente escolhida, é importante:\n",
            "\n",
            "\n",
            "* Preparar o solo antes de semear, adicionando matéria orgânica e fertilizantes para melhorar a estrutura e a fertilidade do solo.\n",
            "* Manter o solo úmido, mas não encharcado, para evitar a perda de água e a erosão do solo.\n",
            "* Fornecer sombra para as plantas, especialmente durante o período de maior calor do dia.\n",
            "\n",
            "\n",
            "Espero que essas dicas tenham ajudado!\n",
            "\n",
            "\n"
          ]
        }
      ]
    },
    {
      "cell_type": "code",
      "source": [],
      "metadata": {
        "id": "qxzzAO2bboHQ"
      },
      "execution_count": null,
      "outputs": []
    }
  ]
}